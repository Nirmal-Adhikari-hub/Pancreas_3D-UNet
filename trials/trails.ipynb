{
 "cells": [
  {
   "cell_type": "code",
   "execution_count": 7,
   "metadata": {},
   "outputs": [
    {
     "name": "stdout",
     "output_type": "stream",
     "text": [
      "Volume Shape: (80, 512, 512)\n",
      "0 32\n",
      "16 48\n",
      "32 64\n",
      "48 80\n",
      "64 80\n"
     ]
    },
    {
     "data": {
      "text/plain": [
       "[(slice(0, 32, None), slice(0, 512, None), slice(0, 512, None)),\n",
       " (slice(16, 48, None), slice(0, 512, None), slice(0, 512, None)),\n",
       " (slice(32, 64, None), slice(0, 512, None), slice(0, 512, None)),\n",
       " (slice(48, 80, None), slice(0, 512, None), slice(0, 512, None)),\n",
       " (slice(48, 80, None), slice(0, 512, None), slice(0, 512, None))]"
      ]
     },
     "execution_count": 7,
     "metadata": {},
     "output_type": "execute_result"
    }
   ],
   "source": [
    "volume_shape = (80, 512, 512) \n",
    "depth = 32\n",
    "overlap = 16\n",
    "d, h, w = volume_shape  # We are only interested in the depth axis, so h and w are ignored for slicing.\n",
    "print(f\"Volume Shape: {volume_shape}\")\n",
    "\n",
    "step_d = depth - overlap  # Step size in depth direction\n",
    "patches_slices = []\n",
    "\n",
    "# Slice along the depth axis only\n",
    "for z in range(0, d, step_d):\n",
    "    if end_z != d:\n",
    "        end_z = min(z + depth, d)# Handle final slice without padding\n",
    "        print(z, end_z)\n",
    "        if end_z - z == 32:\n",
    "            z = z\n",
    "            patches_slices.append((slice(z, end_z), slice(0, h), slice(0, w)))\n",
    "        else:\n",
    "            z = d - 32 \n",
    "            patches_slices.append((slice(z, end_z), slice(0, h), slice(0, w)))\n",
    "            break\n",
    "\n",
    "patches_slices"
   ]
  },
  {
   "cell_type": "code",
   "execution_count": null,
   "metadata": {},
   "outputs": [],
   "source": []
  }
 ],
 "metadata": {
  "kernelspec": {
   "display_name": "vit",
   "language": "python",
   "name": "python3"
  },
  "language_info": {
   "codemirror_mode": {
    "name": "ipython",
    "version": 3
   },
   "file_extension": ".py",
   "mimetype": "text/x-python",
   "name": "python",
   "nbconvert_exporter": "python",
   "pygments_lexer": "ipython3",
   "version": "3.12.4"
  }
 },
 "nbformat": 4,
 "nbformat_minor": 2
}
